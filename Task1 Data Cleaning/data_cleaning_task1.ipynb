{
 "cells": [
  {
   "cell_type": "code",
   "execution_count": 1,
   "id": "f0e64bb1-d1bc-4b45-81b9-c2f1cf11137e",
   "metadata": {},
   "outputs": [
    {
     "data": {
      "text/html": [
       "<div>\n",
       "<style scoped>\n",
       "    .dataframe tbody tr th:only-of-type {\n",
       "        vertical-align: middle;\n",
       "    }\n",
       "\n",
       "    .dataframe tbody tr th {\n",
       "        vertical-align: top;\n",
       "    }\n",
       "\n",
       "    .dataframe thead th {\n",
       "        text-align: right;\n",
       "    }\n",
       "</style>\n",
       "<table border=\"1\" class=\"dataframe\">\n",
       "  <thead>\n",
       "    <tr style=\"text-align: right;\">\n",
       "      <th></th>\n",
       "      <th>CustomerID</th>\n",
       "      <th>Gender</th>\n",
       "      <th>Age</th>\n",
       "      <th>Annual Income (k$)</th>\n",
       "      <th>Spending Score (1-100)</th>\n",
       "    </tr>\n",
       "  </thead>\n",
       "  <tbody>\n",
       "    <tr>\n",
       "      <th>0</th>\n",
       "      <td>1</td>\n",
       "      <td>Male</td>\n",
       "      <td>19</td>\n",
       "      <td>15</td>\n",
       "      <td>39</td>\n",
       "    </tr>\n",
       "    <tr>\n",
       "      <th>1</th>\n",
       "      <td>2</td>\n",
       "      <td>Male</td>\n",
       "      <td>21</td>\n",
       "      <td>15</td>\n",
       "      <td>81</td>\n",
       "    </tr>\n",
       "    <tr>\n",
       "      <th>2</th>\n",
       "      <td>3</td>\n",
       "      <td>Female</td>\n",
       "      <td>20</td>\n",
       "      <td>16</td>\n",
       "      <td>6</td>\n",
       "    </tr>\n",
       "    <tr>\n",
       "      <th>3</th>\n",
       "      <td>4</td>\n",
       "      <td>Female</td>\n",
       "      <td>23</td>\n",
       "      <td>16</td>\n",
       "      <td>77</td>\n",
       "    </tr>\n",
       "    <tr>\n",
       "      <th>4</th>\n",
       "      <td>5</td>\n",
       "      <td>Female</td>\n",
       "      <td>31</td>\n",
       "      <td>17</td>\n",
       "      <td>40</td>\n",
       "    </tr>\n",
       "  </tbody>\n",
       "</table>\n",
       "</div>"
      ],
      "text/plain": [
       "   CustomerID  Gender  Age  Annual Income (k$)  Spending Score (1-100)\n",
       "0           1    Male   19                  15                      39\n",
       "1           2    Male   21                  15                      81\n",
       "2           3  Female   20                  16                       6\n",
       "3           4  Female   23                  16                      77\n",
       "4           5  Female   31                  17                      40"
      ]
     },
     "execution_count": 1,
     "metadata": {},
     "output_type": "execute_result"
    }
   ],
   "source": [
    "import pandas as pd\n",
    "\n",
    "# Load the dataset\n",
    "df = pd.read_csv('Mall_Customers.csv')  # or 'data.csv' if renamed\n",
    "df.head()\n"
   ]
  },
  {
   "cell_type": "code",
   "execution_count": 3,
   "id": "cbb5b213-c24f-406e-80c0-d14e4f02c626",
   "metadata": {},
   "outputs": [
    {
     "name": "stdout",
     "output_type": "stream",
     "text": [
      "<class 'pandas.core.frame.DataFrame'>\n",
      "RangeIndex: 200 entries, 0 to 199\n",
      "Data columns (total 5 columns):\n",
      " #   Column                  Non-Null Count  Dtype \n",
      "---  ------                  --------------  ----- \n",
      " 0   CustomerID              200 non-null    int64 \n",
      " 1   Gender                  200 non-null    object\n",
      " 2   Age                     200 non-null    int64 \n",
      " 3   Annual Income (k$)      200 non-null    int64 \n",
      " 4   Spending Score (1-100)  200 non-null    int64 \n",
      "dtypes: int64(4), object(1)\n",
      "memory usage: 7.9+ KB\n"
     ]
    },
    {
     "data": {
      "text/plain": [
       "Index(['CustomerID', 'Gender', 'Age', 'Annual Income (k$)',\n",
       "       'Spending Score (1-100)'],\n",
       "      dtype='object')"
      ]
     },
     "execution_count": 3,
     "metadata": {},
     "output_type": "execute_result"
    }
   ],
   "source": [
    "df.shape              # Check rows and columns\n",
    "df.info()             # Check data types and null values\n",
    "df.describe()         # Get summary statistics\n",
    "df.columns            # See column names\n",
    "\n"
   ]
  },
  {
   "cell_type": "code",
   "execution_count": 5,
   "id": "06dfac92-c2e5-4abe-b31b-bddea7c3689b",
   "metadata": {},
   "outputs": [
    {
     "data": {
      "text/plain": [
       "CustomerID                0\n",
       "Gender                    0\n",
       "Age                       0\n",
       "Annual Income (k$)        0\n",
       "Spending Score (1-100)    0\n",
       "dtype: int64"
      ]
     },
     "execution_count": 5,
     "metadata": {},
     "output_type": "execute_result"
    }
   ],
   "source": [
    "df.isnull().sum()"
   ]
  },
  {
   "cell_type": "code",
   "execution_count": 7,
   "id": "073ff8e8-cad9-4dfc-9dd8-13b64b8d700f",
   "metadata": {},
   "outputs": [],
   "source": [
    "# Example: Fill missing age with mean (if any)\n",
    "df['Age'] = df['Age'].fillna(df['Age'].mean())"
   ]
  },
  {
   "cell_type": "code",
   "execution_count": 9,
   "id": "c8f19edd-11fd-4e70-82fa-66e70f3afadd",
   "metadata": {},
   "outputs": [],
   "source": [
    "df = df.drop_duplicates()"
   ]
  },
  {
   "cell_type": "code",
   "execution_count": 13,
   "id": "a5df8c8c-88eb-43d2-b728-59f00863e72f",
   "metadata": {},
   "outputs": [],
   "source": [
    "df['Gender'] = df['Gender'].str.strip().str.lower()\n"
   ]
  },
  {
   "cell_type": "code",
   "execution_count": 17,
   "id": "81cd5daa-bad8-4836-bbfd-d21ab86e82a1",
   "metadata": {},
   "outputs": [],
   "source": [
    "df['Gender'] = df['Gender'].replace({'female': 'F', 'male': 'M'})"
   ]
  },
  {
   "cell_type": "code",
   "execution_count": 19,
   "id": "f33b102f-8ede-4362-9d9d-3540a3ecf4d8",
   "metadata": {},
   "outputs": [],
   "source": [
    "df.columns = df.columns.str.strip().str.lower().str.replace(' ', '_')"
   ]
  },
  {
   "cell_type": "code",
   "execution_count": 21,
   "id": "0cd72fe3-74ba-486e-a331-e88c5c21c2ca",
   "metadata": {},
   "outputs": [],
   "source": [
    "df = df.rename(columns={'annual_income_(k$)': 'annual_income_k$', 'spending_score_(1-100)': 'spending_score'})"
   ]
  },
  {
   "cell_type": "code",
   "execution_count": 23,
   "id": "4245c88d-c989-4b52-a764-f5fcb3ec7532",
   "metadata": {},
   "outputs": [
    {
     "data": {
      "text/plain": [
       "customerid           int64\n",
       "gender              object\n",
       "age                  int64\n",
       "annual_income_k$     int64\n",
       "spending_score       int64\n",
       "dtype: object"
      ]
     },
     "execution_count": 23,
     "metadata": {},
     "output_type": "execute_result"
    }
   ],
   "source": [
    "df.dtypes"
   ]
  },
  {
   "cell_type": "code",
   "execution_count": 27,
   "id": "777963cf-6f66-4d94-b205-f79a6584bacd",
   "metadata": {},
   "outputs": [],
   "source": [
    "df['age'] = df['age'].astype(int) "
   ]
  },
  {
   "cell_type": "code",
   "execution_count": 29,
   "id": "72936cd9-2213-4048-ab27-70c60ff764cf",
   "metadata": {},
   "outputs": [],
   "source": [
    "df.to_csv('cleaned_mall_customers.csv', index=False)"
   ]
  },
  {
   "cell_type": "markdown",
   "id": "e1da6ec3-ded9-4ab5-a356-8c0cfc38f34e",
   "metadata": {},
   "source": [
    "### Data Cleaning Summary:\n",
    "\n",
    "- Loaded Mall Customer Segmentation Dataset\n",
    "- Removed 0 duplicate rows\n",
    "- No missing values were found in any column\n",
    "- Standardized 'Genre' values (e.g., 'Male', 'Female' → 'M', 'F')\n",
    "- Renamed column headers to lowercase and removed spaces (e.g., 'Annual Income (k$)' → 'annual_income_k$')\n",
    "- Verified and retained correct data types for each column\n",
    "- Exported cleaned dataset as 'cleaned_mall_customers.csv'\n"
   ]
  },
  {
   "cell_type": "code",
   "execution_count": null,
   "id": "87248886-1d37-4c57-9957-5cc9ef79c5af",
   "metadata": {},
   "outputs": [],
   "source": []
  }
 ],
 "metadata": {
  "kernelspec": {
   "display_name": "Python 3 (ipykernel)",
   "language": "python",
   "name": "python3"
  },
  "language_info": {
   "codemirror_mode": {
    "name": "ipython",
    "version": 3
   },
   "file_extension": ".py",
   "mimetype": "text/x-python",
   "name": "python",
   "nbconvert_exporter": "python",
   "pygments_lexer": "ipython3",
   "version": "3.12.4"
  }
 },
 "nbformat": 4,
 "nbformat_minor": 5
}
